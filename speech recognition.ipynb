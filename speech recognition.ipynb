{
 "cells": [
  {
   "cell_type": "code",
   "execution_count": 7,
   "metadata": {},
   "outputs": [
    {
     "name": "stdout",
     "output_type": "stream",
     "text": [
      "The audio file contains: hello my name is Vicky Kumar ok ok bye\n"
     ]
    }
   ],
   "source": [
    "#Python 2.x program to transcribe an Audio file \n",
    "import speech_recognition as sr \n",
    "import pyttsx3 \n",
    "\n",
    "AUDIO_FILE = (r\"C:\\Users\\Vicky Kumar\\Music\\record\\Recording.wav\") \n",
    "\n",
    "# use the audio file as the audio source \n",
    "\n",
    "r = sr.Recognizer() \n",
    "\n",
    "with sr.AudioFile(AUDIO_FILE) as source: \n",
    "\t#reads the audio file. Here we use record instead of \n",
    "\t#listen \n",
    "\taudio = r.record(source) \n",
    "\n",
    "try:\n",
    "    a = r.recognize_google(audio)\n",
    "    b = \"The audio file contains: \" + a\n",
    "    print(b)\n",
    "    engine = pyttsx3.init() \n",
    "    engine.say(b) \n",
    "    engine.runAndWait()\n",
    "    \n",
    "except sr.UnknownValueError: \n",
    "    print(\"Google Speech Recognition could not understand audio\") \n",
    "\n",
    "except sr.RequestError as e: \n",
    "    print(\"Could not request results from Google Speech Recognition service; {0}\".format(e)) \n"
   ]
  },
  {
   "cell_type": "code",
   "execution_count": 10,
   "metadata": {},
   "outputs": [
    {
     "data": {
      "text/plain": [
       "('C:\\\\Users\\\\Vicky Kumar\\\\Music\\\\record\\\\Recording.wav', str)"
      ]
     },
     "execution_count": 10,
     "metadata": {},
     "output_type": "execute_result"
    }
   ],
   "source": [
    "AUDIO_FILE, type(AUDIO_FILE)"
   ]
  },
  {
   "cell_type": "code",
   "execution_count": 18,
   "metadata": {},
   "outputs": [
    {
     "data": {
      "text/plain": [
       "(<speech_recognition.Recognizer at 0x28b66d94848>,\n",
       " speech_recognition.Recognizer)"
      ]
     },
     "execution_count": 18,
     "metadata": {},
     "output_type": "execute_result"
    }
   ],
   "source": [
    "r, type(r)"
   ]
  },
  {
   "cell_type": "code",
   "execution_count": 17,
   "metadata": {},
   "outputs": [
    {
     "data": {
      "text/plain": [
       "(<speech_recognition.AudioFile at 0x28b66d94888>, speech_recognition.AudioFile)"
      ]
     },
     "execution_count": 17,
     "metadata": {},
     "output_type": "execute_result"
    }
   ],
   "source": [
    "source, type(source)"
   ]
  },
  {
   "cell_type": "code",
   "execution_count": 16,
   "metadata": {},
   "outputs": [
    {
     "data": {
      "text/plain": [
       "(<speech_recognition.AudioFile at 0x28b66da78c8>, speech_recognition.AudioFile)"
      ]
     },
     "execution_count": 16,
     "metadata": {},
     "output_type": "execute_result"
    }
   ],
   "source": [
    "sr.AudioFile(AUDIO_FILE), type(sr.AudioFile(AUDIO_FILE))"
   ]
  },
  {
   "cell_type": "code",
   "execution_count": 20,
   "metadata": {},
   "outputs": [
    {
     "data": {
      "text/plain": [
       "(<speech_recognition.AudioData at 0x28b66cf7e08>, speech_recognition.AudioData)"
      ]
     },
     "execution_count": 20,
     "metadata": {},
     "output_type": "execute_result"
    }
   ],
   "source": [
    "audio, type(audio)"
   ]
  },
  {
   "cell_type": "code",
   "execution_count": 22,
   "metadata": {},
   "outputs": [
    {
     "data": {
      "text/plain": [
       "('hello my name is Vicky Kumar ok ok bye', str)"
      ]
     },
     "execution_count": 22,
     "metadata": {},
     "output_type": "execute_result"
    }
   ],
   "source": [
    "a, type(a)"
   ]
  },
  {
   "cell_type": "code",
   "execution_count": 24,
   "metadata": {},
   "outputs": [
    {
     "data": {
      "text/plain": [
       "('The audio file contains: hello my name is Vicky Kumar ok ok bye', str)"
      ]
     },
     "execution_count": 24,
     "metadata": {},
     "output_type": "execute_result"
    }
   ],
   "source": [
    "b, type(b)"
   ]
  },
  {
   "cell_type": "code",
   "execution_count": 34,
   "metadata": {},
   "outputs": [
    {
     "data": {
      "text/plain": [
       "(<pyttsx3.engine.Engine at 0x28b665b83c8>, pyttsx3.engine.Engine)"
      ]
     },
     "execution_count": 34,
     "metadata": {},
     "output_type": "execute_result"
    }
   ],
   "source": [
    "engine, type(engine)"
   ]
  },
  {
   "cell_type": "code",
   "execution_count": 35,
   "metadata": {},
   "outputs": [
    {
     "data": {
      "text/plain": [
       "NoneType"
      ]
     },
     "execution_count": 35,
     "metadata": {},
     "output_type": "execute_result"
    }
   ],
   "source": [
    "type(engine.say(b))"
   ]
  },
  {
   "cell_type": "code",
   "execution_count": 39,
   "metadata": {},
   "outputs": [],
   "source": [
    "engine.runAndWait()"
   ]
  },
  {
   "cell_type": "code",
   "execution_count": 40,
   "metadata": {},
   "outputs": [
    {
     "data": {
      "text/plain": [
       "NoneType"
      ]
     },
     "execution_count": 40,
     "metadata": {},
     "output_type": "execute_result"
    }
   ],
   "source": [
    "type(engine.runAndWait())"
   ]
  },
  {
   "cell_type": "code",
   "execution_count": 41,
   "metadata": {},
   "outputs": [],
   "source": [
    "# #Python 2.x program for Speech Recognition \n",
    "\n",
    "# import speech_recognition as sr \n",
    "\n",
    "# #enter the name of usb microphone that you found \n",
    "# #using lsusb \n",
    "# #the following name is only used as an example \n",
    "# mic_name = \"USB Device 0x46d:0x825: Audio (hw:1, 0)\"\n",
    "# #Sample rate is how often values are recorded \n",
    "# sample_rate = 48000\n",
    "# #Chunk is like a buffer. It stores 2048 samples (bytes of data) \n",
    "# #here. \n",
    "# #it is advisable to use powers of 2 such as 1024 or 2048 \n",
    "# chunk_size = 2048\n",
    "# #Initialize the recognizer \n",
    "# r = sr.Recognizer() \n",
    "\n",
    "# #generate a list of all audio cards/microphones \n",
    "# mic_list = sr.Microphone.list_microphone_names() \n",
    "\n",
    "# #the following loop aims to set the device ID of the mic that \n",
    "# #we specifically want to use to avoid ambiguity. \n",
    "# for i, microphone_name in enumerate(mic_list): \n",
    "# \tif microphone_name == mic_name: \n",
    "# \t\tdevice_id = i \n",
    "\n",
    "# #use the microphone as source for input. Here, we also specify \n",
    "# #which device ID to specifically look for incase the microphone \n",
    "# #is not working, an error will pop up saying \"device_id undefined\" \n",
    "# with sr.Microphone(device_index = device_id, sample_rate = sample_rate, \n",
    "# \t\t\t\t\t\tchunk_size = chunk_size) as source: \n",
    "# \t#wait for a second to let the recognizer adjust the \n",
    "# \t#energy threshold based on the surrounding noise level \n",
    "# \tr.adjust_for_ambient_noise(source) \n",
    "# \tprint (\"Say Something\")\n",
    "# \t#listens for the user's input \n",
    "# \taudio = r.listen(source) \n",
    "\t\t\n",
    "# \ttry: \n",
    "# \t\ttext = r.recognize_google(audio) \n",
    "# \t\tprint (\"you said: \" + text) \n",
    "\t\n",
    "# \t#error occurs when google could not understand what was said \n",
    "\t\n",
    "# \texcept sr.UnknownValueError: \n",
    "# \t\tprint(\"Google Speech Recognition could not understand audio\") \n",
    "\t\n",
    "# \texcept sr.RequestError as e: \n",
    "# \t\tprint(\"Could not request results from Google Speech Recognition service; {0}\".format(e)) \n"
   ]
  },
  {
   "cell_type": "code",
   "execution_count": 42,
   "metadata": {},
   "outputs": [],
   "source": [
    "# # Python program to translate \n",
    "# # speech to text and text to speech \n",
    "\n",
    "\n",
    "# import speech_recognition as sr \n",
    "# import pyttsx3 \n",
    "\n",
    "# # Initialize the recognizer \n",
    "# r = sr.Recognizer() \n",
    "\n",
    "# # Function to convert text to \n",
    "# # speech \n",
    "# def SpeakText(command): \n",
    "\t\n",
    "# \t# Initialize the engine \n",
    "# \tengine = pyttsx3.init() \n",
    "# \tengine.say(command) \n",
    "# \tengine.runAndWait() \n",
    "\t\n",
    "\t\n",
    "# # Loop infinitely for user to \n",
    "# # speak \n",
    "\n",
    "# while(1):\t \n",
    "\t\n",
    "# \t# Exception handling to handle \n",
    "# \t# exceptions at the runtime \n",
    "# \ttry: \n",
    "\t\t\n",
    "# \t\t# use the microphone as source for input. \n",
    "# \t\twith sr.Microphone() as source2: \n",
    "\t\t\t\n",
    "# \t\t\t# wait for a second to let the recognizer \n",
    "# \t\t\t# adjust the energy threshold based on \n",
    "# \t\t\t# the surrounding noise level \n",
    "# \t\t\tr.adjust_for_ambient_noise(source2, duration=0.2) \n",
    "\t\t\t\n",
    "# \t\t\t#listens for the user's input \n",
    "# \t\t\taudio2 = r.listen(source2) \n",
    "\t\t\t\n",
    "# \t\t\t# Using ggogle to recognize audio \n",
    "# \t\t\tMyText = r.recognize_google(audio2) \n",
    "# \t\t\tMyText = MyText.lower() \n",
    "\n",
    "# \t\t\tprint(\"Did you say \"+MyText) \n",
    "# \t\t\tSpeakText(MyText) \n",
    "\t\t\t\n",
    "# \texcept sr.RequestError as e: \n",
    "# \t\tprint(\"Could not request results; {0}\".format(e)) \n",
    "\t\t\n",
    "# \texcept sr.UnknownValueError: \n",
    "# \t\tprint(\"unknown error occured\") \n"
   ]
  },
  {
   "cell_type": "code",
   "execution_count": 43,
   "metadata": {},
   "outputs": [],
   "source": [
    "# chatbot"
   ]
  },
  {
   "cell_type": "code",
   "execution_count": null,
   "metadata": {},
   "outputs": [],
   "source": []
  }
 ],
 "metadata": {
  "kernelspec": {
   "display_name": "Python 3",
   "language": "python",
   "name": "python3"
  },
  "language_info": {
   "codemirror_mode": {
    "name": "ipython",
    "version": 3
   },
   "file_extension": ".py",
   "mimetype": "text/x-python",
   "name": "python",
   "nbconvert_exporter": "python",
   "pygments_lexer": "ipython3",
   "version": "3.7.4"
  }
 },
 "nbformat": 4,
 "nbformat_minor": 2
}
