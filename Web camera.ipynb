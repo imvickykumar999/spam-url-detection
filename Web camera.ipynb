{
 "cells": [
  {
   "cell_type": "code",
   "execution_count": 1,
   "metadata": {},
   "outputs": [
    {
     "name": "stdout",
     "output_type": "stream",
     "text": [
      "1). Mobile \n",
      "2). Laptop \n",
      "\n",
      "Which Camera wanna use : 2\n",
      "FaceTime\n",
      "Press q to quit the webCam\n",
      "Press 1 to CLICK photo : 1\n",
      "Press 1 to CLICK photo : 1\n",
      "Press 1 to CLICK photo : 0\n"
     ]
    }
   ],
   "source": [
    "\n",
    "import cv2\n",
    "\n",
    "print('1). Mobile \\n2). Laptop \\n')\n",
    "camera = input('Which Camera wanna use : ')\n",
    "\n",
    "if camera == '1':\n",
    "    url = 'http://10.0.251.141:8080/video'\n",
    "else:\n",
    "    url = 0\n",
    "\n",
    "count = 1\n",
    "cap = cv2.VideoCapture(url)\n",
    "\n",
    "if(cap.isOpened()):\n",
    "    print('FaceTime')\n",
    "    print('Press ''q'' to quit the webCam')\n",
    "    \n",
    "    again = '1'\n",
    "    while again == '1':\n",
    "        \n",
    "        again = input('Press 1 to CLICK photo : ')\n",
    "                \n",
    "        if again is not '1':\n",
    "            break\n",
    "            \n",
    "        else:    \n",
    "            ret, face = cap.read()\n",
    "\n",
    "    #         face = cv2.cvtColor(face, cv2.COLOR_BGR2GRAY)\n",
    "            file_name_path = r'C:\\Users\\Vicky Kumar\\Desktop\\Experiments\\Camera Webcam IP\\photo '+ str(count) + ' .jpg'\n",
    "            cv2.imwrite(file_name_path, face)\n",
    "\n",
    "            cv2.imshow('Face Cropper', face)\n",
    "            count = count + 1\n",
    "            \n",
    "    else:\n",
    "        print('Thanks for Using Web Camera...')\n",
    "\n",
    "else:\n",
    "    print('webCam is failed to use')\n",
    "\n",
    "cap.release()\n",
    "cv2.destroyAllWindows()"
   ]
  },
  {
   "cell_type": "code",
   "execution_count": 3,
   "metadata": {},
   "outputs": [
    {
     "data": {
      "text/plain": [
       "True"
      ]
     },
     "execution_count": 3,
     "metadata": {},
     "output_type": "execute_result"
    }
   ],
   "source": [
    "cap.isOpened()"
   ]
  },
  {
   "cell_type": "code",
   "execution_count": 4,
   "metadata": {},
   "outputs": [
    {
     "data": {
      "text/plain": [
       "int"
      ]
     },
     "execution_count": 4,
     "metadata": {},
     "output_type": "execute_result"
    }
   ],
   "source": [
    "type(url)"
   ]
  },
  {
   "cell_type": "code",
   "execution_count": null,
   "metadata": {},
   "outputs": [],
   "source": []
  }
 ],
 "metadata": {
  "kernelspec": {
   "display_name": "Python 3",
   "language": "python",
   "name": "python3"
  },
  "language_info": {
   "codemirror_mode": {
    "name": "ipython",
    "version": 3
   },
   "file_extension": ".py",
   "mimetype": "text/x-python",
   "name": "python",
   "nbconvert_exporter": "python",
   "pygments_lexer": "ipython3",
   "version": "3.7.4"
  }
 },
 "nbformat": 4,
 "nbformat_minor": 2
}
