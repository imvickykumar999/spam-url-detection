{
 "cells": [
  {
   "cell_type": "code",
   "execution_count": 9,
   "metadata": {},
   "outputs": [
    {
     "name": "stdout",
     "output_type": "stream",
     "text": [
      "Enter Present Directory : C:\\Users\\Vicky Kumar\\Desktop\\Experiments\\GeeksForGeeks\n",
      "\n",
      "1). make dir\n",
      "2). remove dir\n",
      "1\n",
      "dir no. 23\n",
      "Directory directory_number 23 is created\n",
      "More ? (1/0) : 1\n",
      "\n",
      "1). make dir\n",
      "2). remove dir\n",
      "2\n",
      "dir no. 23\n",
      "Directory directory_number 23 is removed\n",
      "More ? (1/0) : 5\n"
     ]
    }
   ],
   "source": [
    "import os\n",
    "\n",
    "def k(ch):\n",
    "    try:\n",
    "        g = int(input('dir no. '))\n",
    "        directory = 'directory_number ' + str(g)\n",
    "        path = os.path.join(parent_dir, directory)\n",
    "        \n",
    "        if ch == 1:\n",
    "            os.mkdir(path)\n",
    "            ed = 'created'\n",
    "        elif ch == 2:\n",
    "            os.rmdir(path)\n",
    "            ed = 'removed'\n",
    "            \n",
    "        print(\"Directory \" + str(directory) + \" is \" + str(ed))\n",
    "\n",
    "    except OSError as error:\n",
    "        print(error)\n",
    "\n",
    "# parent_dir = r'C:\\Users\\Vicky Kumar\\Desktop\\Experiments\\GeeksForGeeks'\n",
    "parent_dir = input('Enter Present Directory : ')\n",
    "\n",
    "# x = int(input('How many loops ? : '))\n",
    "# for i in range(x):\n",
    "more = 1\n",
    "while more == 1:\n",
    "    ch = int(input('\\n1). make dir\\n2). remove dir\\n'))\n",
    "    k(ch)\n",
    "    more = int(input(\"More ? (1/0) : \"))\n",
    "    if more == 0:\n",
    "        print('...thanks for using this code ;)')\n",
    "        break"
   ]
  },
  {
   "cell_type": "code",
   "execution_count": 10,
   "metadata": {},
   "outputs": [],
   "source": [
    "import os\n",
    "import shutil\n",
    "for i in range(10):\n",
    "    directory = 'dir_no ' + str(i+1)\n",
    "    path = os.path.join(r'C:\\Users\\Vicky Kumar\\Desktop\\Experiments\\GeeksForGeeks', directory)\n",
    "    try:\n",
    "        if not os.path.exists(path):\n",
    "            os.mkdir(path)\n",
    "            directories = 'file_no ' + str(i+1)\n",
    "            paths = os.path.join(path, directories)\n",
    "            file1 = open(paths + str(i+1) + \".txt\",\"a\") #write mode \n",
    "            file1.write(str(i+1)) \n",
    "            file1.close()\n",
    "        else:\n",
    "    #         os.rmdir(path) # use to delete directory when it is already empty\n",
    "            shutil.rmtree(path) # it can be used even when directory is not empty\n",
    "        \n",
    "    except OSError as error:\n",
    "        print(error)\n",
    "\n",
    "# for i in range(10):\n",
    "#     # Write-Overwrites \n",
    "#     file1 = open(r\"C:\\Users\\Vicky Kumar\\Desktop\\Experiments\\GeeksForGeeks\\abc\" + str(i+1) + \".txt\",\"w\") #write mode \n",
    "#     file1.write(str(i+1)) \n",
    "#     file1.close() \n"
   ]
  },
  {
   "cell_type": "code",
   "execution_count": null,
   "metadata": {},
   "outputs": [],
   "source": []
  }
 ],
 "metadata": {
  "kernelspec": {
   "display_name": "Python 3",
   "language": "python",
   "name": "python3"
  },
  "language_info": {
   "codemirror_mode": {
    "name": "ipython",
    "version": 3
   },
   "file_extension": ".py",
   "mimetype": "text/x-python",
   "name": "python",
   "nbconvert_exporter": "python",
   "pygments_lexer": "ipython3",
   "version": "3.7.4"
  }
 },
 "nbformat": 4,
 "nbformat_minor": 2
}
