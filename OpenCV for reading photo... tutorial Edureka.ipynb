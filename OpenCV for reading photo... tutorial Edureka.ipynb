{
 "cells": [
  {
   "cell_type": "code",
   "execution_count": 9,
   "metadata": {
    "scrolled": true
   },
   "outputs": [],
   "source": [
    "import cv2\n",
    "\n",
    "face_cascade = cv2.CascadeClassifier('C:/Users/Vicky Kumar/Desktop/face detection attendence file/haarcascade_frontalface_default.xml')\n",
    "\n",
    "img = cv2.imread('C:/Users/Vicky Kumar/Pictures/Camera Roll/WIN_20200118_01_34_08_Pro.jpg',1)\n",
    "\n",
    "# Black and White (gray scale)\n",
    "# img_bw = cv2.imread ('C:/Users/Vicky Kumar/Pictures/Camera Roll/WIN_20200118_01_34_08_Pro.jpg',0)\n",
    "img_bw = cv2.cvtColor(img,cv2.COLOR_BGR2GRAY)\n",
    "\n",
    "faces = face_cascade.detectMultiScale(img_bw, scaleFactor = 1.05, minNeighbors = 5)\n",
    "\n",
    "for x,y,w,h in faces:\n",
    "    img = cv2.rectangle(img, (x,y), (x+w,y+h), (0,155,0), 3)"
   ]
  },
  {
   "cell_type": "code",
   "execution_count": 2,
   "metadata": {},
   "outputs": [
    {
     "data": {
      "text/plain": [
       "array([[519, 214, 351, 351]], dtype=int32)"
      ]
     },
     "execution_count": 2,
     "metadata": {},
     "output_type": "execute_result"
    }
   ],
   "source": [
    "faces"
   ]
  },
  {
   "cell_type": "code",
   "execution_count": 3,
   "metadata": {
    "scrolled": true
   },
   "outputs": [
    {
     "name": "stdout",
     "output_type": "stream",
     "text": [
      "(720, 1280, 3)\n"
     ]
    },
    {
     "data": {
      "text/plain": [
       "array([[[193, 212, 195],\n",
       "        [192, 211, 194],\n",
       "        [192, 210, 193],\n",
       "        ...,\n",
       "        [255, 254, 253],\n",
       "        [255, 254, 253],\n",
       "        [255, 254, 253]],\n",
       "\n",
       "       [[193, 212, 195],\n",
       "        [193, 212, 195],\n",
       "        [193, 211, 194],\n",
       "        ...,\n",
       "        [255, 254, 253],\n",
       "        [255, 254, 253],\n",
       "        [255, 254, 253]],\n",
       "\n",
       "       [[194, 213, 196],\n",
       "        [194, 213, 196],\n",
       "        [194, 212, 195],\n",
       "        ...,\n",
       "        [255, 254, 253],\n",
       "        [255, 254, 253],\n",
       "        [255, 254, 253]],\n",
       "\n",
       "       ...,\n",
       "\n",
       "       [[122, 142, 130],\n",
       "        [123, 143, 131],\n",
       "        [125, 145, 133],\n",
       "        ...,\n",
       "        [  8,   0,   0],\n",
       "        [ 10,   0,   0],\n",
       "        [ 10,   0,   0]],\n",
       "\n",
       "       [[118, 140, 128],\n",
       "        [119, 141, 129],\n",
       "        [123, 143, 131],\n",
       "        ...,\n",
       "        [  8,   0,   0],\n",
       "        [ 10,   0,   0],\n",
       "        [ 10,   0,   0]],\n",
       "\n",
       "       [[116, 138, 126],\n",
       "        [118, 140, 128],\n",
       "        [122, 142, 130],\n",
       "        ...,\n",
       "        [  8,   0,   0],\n",
       "        [ 10,   0,   0],\n",
       "        [ 10,   0,   0]]], dtype=uint8)"
      ]
     },
     "execution_count": 3,
     "metadata": {},
     "output_type": "execute_result"
    }
   ],
   "source": [
    "print(img.shape)\n",
    "img"
   ]
  },
  {
   "cell_type": "code",
   "execution_count": 4,
   "metadata": {
    "scrolled": true
   },
   "outputs": [
    {
     "name": "stdout",
     "output_type": "stream",
     "text": [
      "(720, 1280)\n"
     ]
    },
    {
     "data": {
      "text/plain": [
       "array([[205, 204, 203, ..., 254, 254, 254],\n",
       "       [205, 205, 204, ..., 254, 254, 254],\n",
       "       [206, 206, 205, ..., 254, 254, 254],\n",
       "       ...,\n",
       "       [136, 137, 139, ...,   1,   1,   1],\n",
       "       [134, 135, 137, ...,   1,   1,   1],\n",
       "       [132, 134, 136, ...,   1,   1,   1]], dtype=uint8)"
      ]
     },
     "execution_count": 4,
     "metadata": {},
     "output_type": "execute_result"
    }
   ],
   "source": [
    "print(img_bw.shape)\n",
    "img_bw"
   ]
  },
  {
   "cell_type": "code",
   "execution_count": 5,
   "metadata": {},
   "outputs": [
    {
     "name": "stdout",
     "output_type": "stream",
     "text": [
      "<class 'numpy.ndarray'>\n",
      "(360, 640, 3)\n"
     ]
    }
   ],
   "source": [
    "resized = cv2.resize(img, (int(img.shape[1]/2),int(img.shape[0]/2)))\n",
    "print(type(resized))\n",
    "print(resized.shape)\n",
    "\n",
    "cv2.imshow('WIN_20200118_01_34_08_Pro.jpg',resized)\n",
    "# cv2.waitKey(2000)\n",
    "cv2.waitKey(0)\n",
    "cv2.destroyAllWindows()"
   ]
  },
  {
   "cell_type": "code",
   "execution_count": 6,
   "metadata": {},
   "outputs": [
    {
     "name": "stdout",
     "output_type": "stream",
     "text": [
      "<class 'numpy.ndarray'>\n",
      "(240, 426)\n"
     ]
    }
   ],
   "source": [
    "resized_bw = cv2.resize(img_bw, (int(img_bw.shape[1]/3),int(img_bw.shape[0]/3)))\n",
    "print(type(resized_bw))\n",
    "print(resized_bw.shape)\n",
    "\n",
    "cv2.imshow('WIN_20200118_01_34_08_Pro.jpg',resized_bw)\n",
    "# cv2.waitKey(2000)\n",
    "cv2.waitKey(0)\n",
    "cv2.destroyAllWindows()"
   ]
  },
  {
   "cell_type": "code",
   "execution_count": null,
   "metadata": {},
   "outputs": [],
   "source": []
  }
 ],
 "metadata": {
  "kernelspec": {
   "display_name": "Python 3",
   "language": "python",
   "name": "python3"
  },
  "language_info": {
   "codemirror_mode": {
    "name": "ipython",
    "version": 3
   },
   "file_extension": ".py",
   "mimetype": "text/x-python",
   "name": "python",
   "nbconvert_exporter": "python",
   "pygments_lexer": "ipython3",
   "version": "3.7.4"
  }
 },
 "nbformat": 4,
 "nbformat_minor": 2
}
