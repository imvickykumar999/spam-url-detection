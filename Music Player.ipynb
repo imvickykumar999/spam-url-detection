{
 "cells": [
  {
   "cell_type": "code",
   "execution_count": null,
   "metadata": {},
   "outputs": [
    {
     "name": "stdout",
     "output_type": "stream",
     "text": [
      "Press 'p' to pause, 'r' to resume\n",
      "Press 'e' to exit the program\n"
     ]
    }
   ],
   "source": [
    "from pygame import mixer \n",
    "\n",
    "# Starting the mixer \n",
    "mixer.init() \n",
    "\n",
    "# Loading the song \n",
    "mixer.music.load(r\"C:\\Users\\Vicky Kumar\\Music\\Vicky_ My music\\sun sonio - New Sad Song Best Heart Touching Video(MP3_128K).mp3\") \n",
    "\n",
    "# Setting the volume \n",
    "mixer.music.set_volume(0.7) \n",
    "\n",
    "# Start playing the song \n",
    "mixer.music.play() \n",
    "\n",
    "# infinite loop \n",
    "while True: \n",
    "\t\n",
    "\tprint(\"Press 'p' to pause, 'r' to resume\") \n",
    "\tprint(\"Press 'e' to exit the program\") \n",
    "\tquery = input(\" \") \n",
    "\t\n",
    "\tif query == 'p': \n",
    "\n",
    "\t\t# Pausing the music \n",
    "\t\tmixer.music.pause()\t \n",
    "\telif query == 'r': \n",
    "\n",
    "\t\t# Resuming the music \n",
    "\t\tmixer.music.unpause() \n",
    "\telif query == 'e': \n",
    "\n",
    "\t\t# Stop the mixer \n",
    "\t\tmixer.music.stop() \n",
    "\t\tbreak\n"
   ]
  },
  {
   "cell_type": "code",
   "execution_count": null,
   "metadata": {},
   "outputs": [],
   "source": []
  }
 ],
 "metadata": {
  "kernelspec": {
   "display_name": "Python 3",
   "language": "python",
   "name": "python3"
  },
  "language_info": {
   "codemirror_mode": {
    "name": "ipython",
    "version": 3
   },
   "file_extension": ".py",
   "mimetype": "text/x-python",
   "name": "python",
   "nbconvert_exporter": "python",
   "pygments_lexer": "ipython3",
   "version": "3.7.4"
  }
 },
 "nbformat": 4,
 "nbformat_minor": 2
}
